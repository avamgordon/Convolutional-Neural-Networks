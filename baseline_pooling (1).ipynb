{
  "cells": [
    {
      "cell_type": "markdown",
      "metadata": {
        "id": "2a9w-c8RfW07"
      },
      "source": [
        "# Load the data in the form of a dictionary\n",
        "\n",
        "# The dictionary has different keys\n",
        "- DESCR:  describes the dataset\n",
        "- data: array of data (one row per instance, one column per feature)\n",
        "- target: array of labels\n",
        "..."
      ]
    },
    {
      "cell_type": "code",
      "execution_count": 22,
      "metadata": {
        "colab": {
          "base_uri": "https://localhost:8080/"
        },
        "id": "VNIFiY7_fW08",
        "outputId": "39490464-5df4-4d5d-af13-2b4cff470176"
      },
      "outputs": [
        {
          "output_type": "stream",
          "name": "stdout",
          "text": [
            "Requirement already satisfied: scikit-learn in /usr/local/lib/python3.11/dist-packages (1.6.1)\n",
            "Requirement already satisfied: numpy>=1.19.5 in /usr/local/lib/python3.11/dist-packages (from scikit-learn) (2.0.2)\n",
            "Requirement already satisfied: scipy>=1.6.0 in /usr/local/lib/python3.11/dist-packages (from scikit-learn) (1.14.1)\n",
            "Requirement already satisfied: joblib>=1.2.0 in /usr/local/lib/python3.11/dist-packages (from scikit-learn) (1.4.2)\n",
            "Requirement already satisfied: threadpoolctl>=3.1.0 in /usr/local/lib/python3.11/dist-packages (from scikit-learn) (3.6.0)\n",
            "Requirement already satisfied: pandas in /usr/local/lib/python3.11/dist-packages (2.2.2)\n",
            "Requirement already satisfied: numpy>=1.23.2 in /usr/local/lib/python3.11/dist-packages (from pandas) (2.0.2)\n",
            "Requirement already satisfied: python-dateutil>=2.8.2 in /usr/local/lib/python3.11/dist-packages (from pandas) (2.8.2)\n",
            "Requirement already satisfied: pytz>=2020.1 in /usr/local/lib/python3.11/dist-packages (from pandas) (2025.2)\n",
            "Requirement already satisfied: tzdata>=2022.7 in /usr/local/lib/python3.11/dist-packages (from pandas) (2025.2)\n",
            "Requirement already satisfied: six>=1.5 in /usr/local/lib/python3.11/dist-packages (from python-dateutil>=2.8.2->pandas) (1.17.0)\n"
          ]
        },
        {
          "output_type": "execute_result",
          "data": {
            "text/plain": [
              "dict_keys(['data', 'target', 'frame', 'categories', 'feature_names', 'target_names', 'DESCR', 'details', 'url'])"
            ]
          },
          "metadata": {},
          "execution_count": 22
        }
      ],
      "source": [
        "!pip install scikit-learn\n",
        "!pip install pandas\n",
        "from sklearn.datasets import fetch_openml\n",
        "mnist = fetch_openml('mnist_784', version=1) # Returns a dictionary with the data\n",
        "mnist.keys()"
      ]
    },
    {
      "cell_type": "markdown",
      "metadata": {
        "id": "VQKBvE8YfW09"
      },
      "source": [
        "# Get the data and labels"
      ]
    },
    {
      "cell_type": "code",
      "execution_count": 23,
      "metadata": {
        "colab": {
          "base_uri": "https://localhost:8080/"
        },
        "id": "8Rk6Bn-efW09",
        "outputId": "0d765288-2d56-4c5b-8fd1-57b34e37e512"
      },
      "outputs": [
        {
          "output_type": "stream",
          "name": "stdout",
          "text": [
            "(70000, 784) (70000,)\n",
            "0 9\n",
            "<class 'pandas.core.frame.DataFrame'> <class 'pandas.core.series.Series'>\n",
            "-1.0 1.0\n"
          ]
        }
      ],
      "source": [
        "\n",
        "import numpy as np\n",
        "X, y = mnist[\"data\"], mnist[\"target\"]\n",
        "y = y.astype(int) # Convert y to list of integers\n",
        "X = ((X/255.) - .5)*2\n",
        "print(X.shape, y.shape)\n",
        "print(min(y),max(y))\n",
        "print(type(X), type(y))\n",
        "print(np.min(np.min(X,axis=0),axis=0),np.max(np.max(X,axis=0)))"
      ]
    },
    {
      "cell_type": "markdown",
      "metadata": {
        "id": "myg6FTb7fW0-"
      },
      "source": [
        "# Visualize the data"
      ]
    },
    {
      "cell_type": "code",
      "execution_count": 24,
      "metadata": {
        "colab": {
          "base_uri": "https://localhost:8080/",
          "height": 338
        },
        "id": "qnFXRujSfW0-",
        "outputId": "586f5e77-00a7-4639-b7fc-c5b1bc29443e"
      },
      "outputs": [
        {
          "output_type": "display_data",
          "data": {
            "text/plain": [
              "<Figure size 640x480 with 10 Axes>"
            ],
            "image/png": "[encoded data removed]"
          },
          "metadata": {}
        }
      ],
      "source": [
        "import matplotlib as mpl\n",
        "import matplotlib.pyplot as plt\n",
        "fig, ax = plt.subplots(nrows=2, ncols=5,sharex=True, sharey=True)\n",
        "ax = ax.flatten()\n",
        "for i in range(10):\n",
        "    matchlist = [i for i, x in enumerate(y == i) if x]\n",
        "    img = X.loc[matchlist[0]].to_numpy().reshape(28,28)\n",
        "    ax[i].imshow(img,cmap='Greys')\n",
        "ax[0].set_xticks([])\n",
        "ax[0].set_yticks([])\n",
        "plt.tight_layout()\n",
        "plt.show()"
      ]
    },
    {
      "cell_type": "markdown",
      "metadata": {
        "id": "Wxq_C4ZHfW0-"
      },
      "source": [
        "# Divide the data into training, development and testing sets"
      ]
    },
    {
      "cell_type": "code",
      "execution_count": 25,
      "metadata": {
        "colab": {
          "base_uri": "https://localhost:8080/"
        },
        "id": "6sLKqQ-FfW0-",
        "outputId": "83531bee-d20c-4e84-c110-24d4343af5d8"
      },
      "outputs": [
        {
          "output_type": "stream",
          "name": "stdout",
          "text": [
            "(60000, 784) (10000, 784) (60000,) (10000,)\n",
            "0 9\n",
            "0 9\n"
          ]
        }
      ],
      "source": [
        "X_train, X_test, y_train, y_test = X[:60000], X[60000:], y[:60000], y[60000:]\n",
        "print(X_train.shape, X_test.shape, y_train.shape, y_test.shape)\n",
        "print(min(y_train),max(y_train))\n",
        "print(min(y_test),max(y_test))\n",
        "X_test = X_test.to_numpy()\n",
        "y_test  = y_test .to_numpy()"
      ]
    },
    {
      "cell_type": "code",
      "execution_count": 26,
      "metadata": {
        "id": "Ca_3yNUnfW0-"
      },
      "outputs": [],
      "source": [
        "from sklearn.model_selection import StratifiedShuffleSplit\n",
        "\n",
        "splitter=StratifiedShuffleSplit(n_splits=1,random_state=12)\n",
        "for train,test in splitter.split(X_train,y_train):\n",
        "    X_train_strat = X_train.iloc[train]\n",
        "    y_train_strat  = y_train.iloc[train]\n",
        "    X_dev_strat= X_train.iloc[test]\n",
        "    y_dev_strat = y_train.iloc[test]\n",
        "X_train_strat = X_train_strat.to_numpy()\n",
        "y_train_strat = y_train_strat.to_numpy()\n",
        "X_dev_strat = X_dev_strat.to_numpy()\n",
        "y_dev_strat = y_dev_strat.to_numpy()\n",
        "#print(X_train_strat.shape, y_train_strat.shape, X_dev_strat.shape, y_dev_strat.shape)\n",
        "#print(min(y_train_strat),max(y_train_strat))\n",
        "#print(min(y_dev_strat),max(y_dev_strat))\n"
      ]
    },
    {
      "cell_type": "markdown",
      "metadata": {
        "id": "_Oy6vSyYfW0_"
      },
      "source": [
        "# Use the dataloader to automatically divide data into batches"
      ]
    },
    {
      "cell_type": "code",
      "execution_count": 27,
      "metadata": {
        "id": "Z0eLKF5QfW0_"
      },
      "outputs": [],
      "source": [
        "# Import key libraries\n",
        "import torch\n",
        "import torch.nn as nn\n",
        "import torch.nn.functional as Func\n",
        "from torch.autograd import Variable\n",
        "import torch.optim as optim\n",
        "import torch.utils.data as data\n",
        "import random\n",
        "from scipy.io import savemat\n",
        "import os\n",
        "from os import path\n",
        "from sklearn.preprocessing import normalize\n",
        "from torch.nn.utils import clip_grad_norm_\n",
        "import torch.nn.parallel.data_parallel as data_parallel\n",
        "from sklearn.metrics import confusion_matrix"
      ]
    },
    {
      "cell_type": "code",
      "execution_count": 28,
      "metadata": {
        "id": "mdGFgWyKfW0_"
      },
      "outputs": [],
      "source": [
        "# Define key hyperparameters\n",
        "class hyperparam:\n",
        "    num_classes    = 10 # 10 neurons for the output layer\n",
        "    input_dim      = 28*28 # Inputs are size 28x28\n",
        "    lr          = 0.05 # Initial learning rate\n",
        "    num_epochs = 100 # Number of epochs\n",
        "    bs          = 50 # Mini-batch size\n"
      ]
    },
    {
      "cell_type": "code",
      "execution_count": 29,
      "metadata": {
        "id": "ZIczh0x2fW0_"
      },
      "outputs": [],
      "source": [
        "class myDataset(data.Dataset):\n",
        "    def __init__(self, input_data, labels):\n",
        "        # Initialize variables\n",
        "        self.feats = input_data\n",
        "        self.labels = labels\n",
        "\n",
        "    def __len__(self):\n",
        "        return len(self.labels) # returns the number of samples\n",
        "\n",
        "    def __getitem__(self, index): # Returns sample data and label\n",
        "        # Reshaping inputs to size 28x28\n",
        "        X = self.feats[index].reshape(28, 28)\n",
        "        X = X[np.newaxis, :, :]\n",
        "        X = torch.tensor(X, dtype = torch.float32)\n",
        "        y = torch.tensor(self.labels[index], dtype=torch.long)\n",
        "        return X, y\n",
        ""
      ]
    },
    {
      "cell_type": "code",
      "execution_count": 30,
      "metadata": {
        "colab": {
          "base_uri": "https://localhost:8080/"
        },
        "id": "jdegH1JrfW0_",
        "outputId": "38f7db5d-c0b7-4362-e975-97f0727bd158"
      },
      "outputs": [
        {
          "output_type": "stream",
          "name": "stdout",
          "text": [
            "(54000, 784)\n"
          ]
        }
      ],
      "source": [
        "params = {'batch_size': hyperparam.bs,\n",
        "         'shuffle': True,\n",
        "         'num_workers': 0,\n",
        "         'drop_last': False,\n",
        "         'pin_memory': False}\n",
        "\n",
        "training_set = myDataset(X_train_strat,y_train_strat)\n",
        "dev_set      = myDataset(X_dev_strat,y_dev_strat)\n",
        "test_set     = myDataset(X_test,y_test)\n",
        "\n",
        "training_gen = data.DataLoader(training_set,**params)\n",
        "dev_gen      = data.DataLoader(dev_set,**params)\n",
        "\n",
        "params2 = {'batch_size': 16,\n",
        "         'shuffle': False,\n",
        "         'num_workers': 0,\n",
        "         'drop_last': False,\n",
        "         'pin_memory': False}\n",
        "testing_gen  = data.DataLoader(test_set,**params2)\n",
        "print(X_train_strat.shape)"
      ]
    },
    {
      "cell_type": "code",
      "execution_count": 31,
      "metadata": {
        "id": "iOGoJWg6fW0_"
      },
      "outputs": [],
      "source": [
        "import torch.nn.functional as F"
      ]
    },
    {
      "cell_type": "markdown",
      "metadata": {
        "id": "dKWbdJxOfW1A"
      },
      "source": [
        "# Define the Neural Network"
      ]
    },
    {
      "cell_type": "code",
      "execution_count": 11,
      "metadata": {
        "id": "oDa4cD9GfW1A"
      },
      "outputs": [],
      "source": [
        "class DNN(nn.Module):\n",
        "    def __init__(self):\n",
        "        super(DNN,self).__init__()\n",
        "\n",
        "        self.conv1 = nn.Conv2d(in_channels = 1, out_channels = 6, kernel_size = 3, stride = 1) # Convolutional layer 1 with 6 3x3 kernels and stride = 1\n",
        "        self.conv2 = nn.Conv2d(in_channels = 6, out_channels = 10, kernel_size = 3, stride = 1) # Convolutional layer 2 with 10 3x3 kernels and stride = 1\n",
        "        self.pool = nn.MaxPool2d(kernel_size = 3, stride = 3) # Add a 3x3 max pooling layer after each convolutional layer, using a stride of 3\n",
        "        new_dimension = 10 * 2 * 2 # Dimension after convolution & max pooling\n",
        "        self.output = nn.Linear(new_dimension, 10) # 10 neurons for the output layer\n",
        "\n",
        "    def forward(self,sig):\n",
        "        sig = self.conv1(sig) # Convolution 1\n",
        "        sig = F.relu(sig) # Followed by ReLU A.F.\n",
        "        sig = self.pool(sig) # Max pooling\n",
        "        sig = self.conv2(sig) # Convolution 2\n",
        "        sig = F.relu(sig) # Followed by ReLU A.F.\n",
        "        sig = self.pool(sig) # Max pooling\n",
        "        sig = sig.view(sig.size(0),-1) # Flattening\n",
        "        sig = self.output(sig) # nn.Linear\n",
        "        return sig\n",
        ""
      ]
    },
    {
      "cell_type": "code",
      "execution_count": 32,
      "metadata": {
        "id": "rRdn9S1EfW1A"
      },
      "outputs": [],
      "source": [
        "# Create DNN and define loss function\n",
        "dnn_model = DNN()\n",
        "optimizer = torch.optim.SGD(dnn_model.parameters(), lr=hyperparam.lr)\n",
        "# Cross-entropy loss function\n",
        "loss = nn.CrossEntropyLoss()"
      ]
    },
    {
      "cell_type": "code",
      "execution_count": 33,
      "metadata": {
        "colab": {
          "base_uri": "https://localhost:8080/",
          "height": 35
        },
        "id": "kUZp50GKfW1A",
        "outputId": "d27f35be-31df-4662-fd18-edc5621fb3b8"
      },
      "outputs": [
        {
          "output_type": "display_data",
          "data": {
            "application/javascript": [
              "IPython.notebook.set_autosave_interval(0)"
            ]
          },
          "metadata": {}
        },
        {
          "output_type": "stream",
          "name": "stdout",
          "text": [
            "Autosave disabled\n"
          ]
        }
      ],
      "source": [
        "%autosave 0"
      ]
    },
    {
      "cell_type": "code",
      "execution_count": 34,
      "metadata": {
        "colab": {
          "base_uri": "https://localhost:8080/"
        },
        "id": "8G0LVFpKfW1A",
        "outputId": "c95ff6c4-c4c2-4c6c-b5c9-f6be005b1105"
      },
      "outputs": [
        {
          "output_type": "execute_result",
          "data": {
            "text/plain": [
              "DNN(\n",
              "  (conv1): Conv2d(1, 6, kernel_size=(3, 3), stride=(1, 1))\n",
              "  (conv2): Conv2d(6, 10, kernel_size=(3, 3), stride=(1, 1))\n",
              "  (pool): MaxPool2d(kernel_size=3, stride=3, padding=0, dilation=1, ceil_mode=False)\n",
              "  (output): Linear(in_features=40, out_features=10, bias=True)\n",
              ")"
            ]
          },
          "metadata": {},
          "execution_count": 34
        }
      ],
      "source": [
        "# Baseline system should use Xavier initialization based on uniform distribution\n",
        "def xavier(module_weights):\n",
        "    if isinstance(module_weights, (nn.Conv2d, nn.Linear)):\n",
        "        torch.nn.init.xavier_uniform_(module_weights.weight)\n",
        "dnn_model.apply(xavier)"
      ]
    },
    {
      "cell_type": "code",
      "execution_count": 15,
      "metadata": {
        "id": "R0LJxkFffW1A"
      },
      "outputs": [],
      "source": [
        "# Mini-batch GD with momentum (beta = 0.9) & mini batch size of 50\n",
        "optimizer = torch.optim.SGD(dnn_model.parameters(), lr=0.05, momentum=0.9)\n",
        "# A learning rate scheduler to adjust the learning rate by 10% every 10 epochs, starting with a learning rate of 0.05\n",
        "learning_rate = torch.optim.lr_scheduler.StepLR(optimizer, step_size=10, gamma=0.9)"
      ]
    },
    {
      "cell_type": "code",
      "execution_count": 35,
      "metadata": {
        "id": "iYCAImBlfW1A"
      },
      "outputs": [],
      "source": [
        "# Early stopping\n",
        "epoch_step = 10\n",
        "best_dev_loss = 0\n",
        "early_stop = 0"
      ]
    },
    {
      "cell_type": "code",
      "execution_count": 36,
      "metadata": {
        "scrolled": true,
        "colab": {
          "base_uri": "https://localhost:8080/"
        },
        "id": "OCmD0W61fW1A",
        "outputId": "ba6627b4-f352-487e-93ba-c1835c5d90b7"
      },
      "outputs": [
        {
          "output_type": "stream",
          "name": "stdout",
          "text": [
            "Epoch  0, Train Loss: 0.635699591, Train Accuracy: 0.79291, Dev Loss: 0.215370566, Dev Accuracy: 0.93067\n",
            "Epoch  1, Train Loss: 0.185102680, Train Accuracy: 0.94204, Dev Loss: 0.151011959, Dev Accuracy: 0.94850\n",
            "Epoch  2, Train Loss: 0.151197302, Train Accuracy: 0.95259, Dev Loss: 0.130490080, Dev Accuracy: 0.95700\n",
            "Epoch  3, Train Loss: 0.132578231, Train Accuracy: 0.95848, Dev Loss: 0.128849626, Dev Accuracy: 0.95667\n",
            "Epoch  4, Train Loss: 0.120493399, Train Accuracy: 0.96198, Dev Loss: 0.107955597, Dev Accuracy: 0.96467\n",
            "Epoch  5, Train Loss: 0.110444492, Train Accuracy: 0.96509, Dev Loss: 0.099191293, Dev Accuracy: 0.96817\n",
            "Epoch  6, Train Loss: 0.102978218, Train Accuracy: 0.96730, Dev Loss: 0.094965465, Dev Accuracy: 0.96867\n",
            "Epoch  7, Train Loss: 0.097204769, Train Accuracy: 0.96872, Dev Loss: 0.093802288, Dev Accuracy: 0.97017\n",
            "Epoch  8, Train Loss: 0.091988951, Train Accuracy: 0.97059, Dev Loss: 0.098139539, Dev Accuracy: 0.96883\n",
            "Epoch  9, Train Loss: 0.087436124, Train Accuracy: 0.97226, Dev Loss: 0.083793975, Dev Accuracy: 0.97250\n",
            "Early stopped at epoch 10\n"
          ]
        }
      ],
      "source": [
        "# Train the DNN\n",
        "import warnings\n",
        "warnings.filterwarnings('ignore')\n",
        "tr_avgLoss_list = [] # Avg. training loss per epoch\n",
        "tr_accuracy_list = [] # Training accuracy per epoch\n",
        "dev_avgLoss_list = [] # Avg. validation loss per epoch\n",
        "dev_accuracy_list = [] # Validation accuarcy per epoch\n",
        "\n",
        "# Loop over epochs\n",
        "for epoch in range(hyperparam.num_epochs):\n",
        "    tr_num_correct = 0 # Num. correctly classified training samples\n",
        "    tr_num_samples = 0 # Total number of training samples\n",
        "    tr_total_loss = 0.0 # Total training loss\n",
        "\n",
        "    dev_num_correct = 0 # Num. correctly classified validation samples\n",
        "    dev_num_samples = 0 # Total number of validation samples\n",
        "    dev_total_loss = 0.0 # Total validaton loss\n",
        "\n",
        "    # Training\n",
        "    dnn_model.train(True)\n",
        "\n",
        "    with torch.set_grad_enabled(True):\n",
        "        for local_batch, local_labels in training_gen:\n",
        "\n",
        "            optimizer.zero_grad()\n",
        "\n",
        "            local_batch = local_batch.float()\n",
        "            local_labels = local_labels.float()\n",
        "            local_batch, local_labels = Variable(local_batch), Variable(local_labels)\n",
        "\n",
        "            # Model computations\n",
        "            out1 = dnn_model(local_batch)\n",
        "            #CrossEntropy loss calculation\n",
        "            pLoss = loss(out1,local_labels.long())\n",
        "            tr_total_loss += pLoss.item()*hyperparam.bs #Correct for average based on batch size\n",
        "\n",
        "            # Backpropagation\n",
        "            pLoss.backward() #gradient calculation\n",
        "            optimizer.step() #weight update\n",
        "\n",
        "\n",
        "            sel_class = torch.argmax(out1,dim=1)\n",
        "\n",
        "            tr_num_correct += sel_class.eq(local_labels).sum().item()\n",
        "            tr_num_samples += hyperparam.bs\n",
        "\n",
        "        tr_avgLoss = tr_total_loss/len(training_gen.dataset)\n",
        "        tr_avgLoss_list.append(tr_avgLoss)\n",
        "\n",
        "        tr_accuracy = tr_num_correct/tr_num_samples\n",
        "        tr_accuracy_list.append(tr_accuracy)\n",
        "\n",
        "    # Validation\n",
        "    with torch.set_grad_enabled(False):\n",
        "        dnn_model.eval()\n",
        "\n",
        "        for local_batch, local_labels in dev_gen:\n",
        "\n",
        "            local_batch = local_batch.float()\n",
        "            local_labels = local_labels.float()\n",
        "            local_batch, local_labels = Variable(local_batch), Variable(local_labels)\n",
        "\n",
        "            # Model computations\n",
        "            out1 = dnn_model(local_batch)\n",
        "\n",
        "            #CrossEntropy loss calculation\n",
        "            pLoss = loss(out1,local_labels.long())\n",
        "            dev_total_loss += pLoss*hyperparam.bs #Correct for average based on batch size\n",
        "\n",
        "            sel_class = torch.argmax(out1,dim=1)\n",
        "\n",
        "            dev_num_correct += sel_class.eq(local_labels).sum().item()\n",
        "            #print(correction)\n",
        "            dev_num_samples += hyperparam.bs\n",
        "\n",
        "        dev_avgLoss = dev_total_loss/len(dev_gen.dataset)\n",
        "        dev_avgLoss_list.append(dev_avgLoss)\n",
        "\n",
        "        dev_accuracy = dev_num_correct/dev_num_samples\n",
        "        dev_accuracy_list.append(dev_accuracy)\n",
        "\n",
        "        learning_rate.step()\n",
        "\n",
        "        print('Epoch {:2}, Train Loss: {:>.9f}, Train Accuracy: {:>.5f}, Dev Loss: {:>.9f}, Dev Accuracy: {:>.5f}'.format(epoch,tr_avgLoss,tr_accuracy,dev_avgLoss,dev_accuracy))\n",
        "\n",
        "        if dev_avgLoss < best_dev_loss:\n",
        "            best_dev_loss = dev_avgLoss\n",
        "            early_stop = 0\n",
        "        else:\n",
        "            early_stop += 1\n",
        "        if early_stop >= epoch_step:\n",
        "            print(f\"Early stopped at epoch {epoch +1}\")\n",
        "            break\n"
      ]
    },
    {
      "cell_type": "code",
      "execution_count": 37,
      "metadata": {
        "colab": {
          "base_uri": "https://localhost:8080/",
          "height": 487
        },
        "id": "VxYNKvjvfW1B",
        "outputId": "edecc954-f926-4989-987c-d064fb56ecfe"
      },
      "outputs": [
        {
          "output_type": "display_data",
          "data": {
            "text/plain": [
              "<Figure size 640x480 with 2 Axes>"
            ],
            "image/png": "[encoded data removed]"
          },
          "metadata": {}
        }
      ],
      "source": [
        "# Plot Learning curves\n",
        "fig, ax = plt.subplots(nrows=1, ncols=2,sharex=False, sharey=False)\n",
        "ax = ax.flatten()\n",
        "tr_errors = [tr_avgLoss_list, tr_accuracy_list]\n",
        "dev_errors = [dev_avgLoss_list, dev_accuracy_list]\n",
        "er_title = ['Avg. Cross Entropy Loss','Avg. Accuracy']\n",
        "for i in range(2):\n",
        "    ax[i].plot(tr_errors[i],\"r-+\",linewidth=2, label =\"train\")\n",
        "    ax[i].plot(dev_errors[i],\"b-\",linewidth=2,label =\"val\")\n",
        "    ax[i].legend()\n",
        "    ax[i].title.set_text(er_title[i])\n",
        "    ax[i].set_xlabel('Epoch')\n",
        "\n",
        "plt.tight_layout()\n",
        "plt.show()"
      ]
    },
    {
      "cell_type": "markdown",
      "source": [
        "Outcomes (1) Discussion: As the number of epochs increases, the average cross entropy loss decreases for both the training and validation data and eventually begins to plateau a bit, and both are relatively in line with one another. Furthermore, as the number of epochs increases, the average accuracy increases for both the training and validation data, and both are relatively in line with one another. This is an indicator that the model with max pooling has similar performance for both the training and validation data, so there is good generalization. When comparing with the baseline model, the training accuracy and validation accuracy are a bit lower with this model, and the training loss and validation loss are a bit higher."
      ],
      "metadata": {
        "id": "eXVfeP0FxmYd"
      }
    },
    {
      "cell_type": "code",
      "execution_count": 38,
      "metadata": {
        "colab": {
          "base_uri": "https://localhost:8080/"
        },
        "id": "A235y7vBfW1B",
        "outputId": "78b45dcb-3dbb-4960-fb48-61b26704775e"
      },
      "outputs": [
        {
          "output_type": "stream",
          "name": "stdout",
          "text": [
            "Test Loss: 0.004925754, Test Accuracy: 0.97490\n",
            "[[ 963    0    4    0    2    4    3    1    0    3]\n",
            " [   2 1123    3    4    0    2    0    1    0    0]\n",
            " [   5    2 1014    2    2    0    1    6    0    0]\n",
            " [   1    0    4  985    0   13    0    1    2    4]\n",
            " [   0    0    1    0  955    0    1    1    2   22]\n",
            " [   1    1    1    2    0  877    3    1    2    4]\n",
            " [   9    4    2    1    4   11  921    0    5    1]\n",
            " [   1   10   11    4    0    1    0  988    0   13]\n",
            " [   6    0    3    2    3    5    3    1  941   10]\n",
            " [   6    1    0    2    3    6    0    5    4  982]]\n"
          ]
        }
      ],
      "source": [
        "# Outcomes (2): Test this baseline system with the testing data and report the\n",
        "# accuracy and show a confusion matrix.\n",
        "\n",
        "actuals = []\n",
        "predicted = []\n",
        "\n",
        "test_total_loss=0.0\n",
        "test_num_correct =0\n",
        "with torch.set_grad_enabled(False):\n",
        "    dnn_model.eval()\n",
        "\n",
        "    for local_batch, local_labels in testing_gen:\n",
        "\n",
        "            local_batch = local_batch.float()\n",
        "            local_labels = local_labels.float()\n",
        "            local_batch, local_labels = Variable(local_batch), Variable(local_labels)\n",
        "\n",
        "            # Model computations\n",
        "            out1 = dnn_model(local_batch)\n",
        "            predictions = torch.argmax(out1, dim=1)\n",
        "            predicted.extend(predictions.detach().numpy())\n",
        "            actuals.extend(local_labels.detach().numpy())\n",
        "\n",
        "            #CrossEntropy loss calculation\n",
        "            pLoss = loss(out1,local_labels.long())\n",
        "            test_total_loss += pLoss*1 #Correct for average based on batch size\n",
        "\n",
        "            sel_class = torch.argmax(out1,dim=1)\n",
        "\n",
        "            test_num_correct += sel_class.eq(local_labels.long()).sum().item() #Added .long()\n",
        "            test_num_samples = len(testing_gen.dataset)\n",
        "\n",
        "    test_avgLoss = test_total_loss/len(testing_gen.dataset)\n",
        "    test_accuracy = test_num_correct/test_num_samples\n",
        "\n",
        "    print('Test Loss: {:>.9f}, Test Accuracy: {:>.5f}'.format(test_avgLoss,test_accuracy))\n",
        "    print(confusion_matrix(actuals, predicted))\n"
      ]
    },
    {
      "cell_type": "code",
      "source": [
        "# Outcomes (3): Display a subset of the kernels from each convolutional layer as\n",
        "# images (e.g. using matplotlib, subplot, imshow).\n",
        "\n",
        "# Convolutional layer 1:\n",
        "weights1 = dnn_model.conv1.weight.data.numpy()\n",
        "filters1 = weights1.shape[0]\n",
        "\n",
        "fig, ax = plt.subplots(nrows=1, ncols=filters1,sharex=True, sharey=True)\n",
        "ax = ax.flatten()\n",
        "for i in range(filters1):\n",
        "    img = weights1[i].reshape(3,3)\n",
        "    ax[i].imshow(img,cmap='Grays')\n",
        "    ax[i].set_title(f'Kernel {i+1}')\n",
        "ax[0].set_xticks([])\n",
        "ax[0].set_yticks([])\n",
        "plt.tight_layout()\n",
        "plt.show()\n",
        "\n",
        "# Convolutional layer 2:\n",
        "weights2 = dnn_model.conv2.weight.data.numpy()\n",
        "filters2 = weights2.shape[0]\n",
        "channels2 = weights2.shape[1]\n",
        "\n",
        "fig, ax = plt.subplots(nrows = filters2, ncols=channels2,sharex=True, sharey=True)\n",
        "ax = ax.flatten()\n",
        "for i in range(filters2):\n",
        "    for j in range(channels2):\n",
        "        img = weights2[i,j].reshape(3,3)\n",
        "        ax[i*channels2+j].imshow(img,cmap='Grays')\n"
      ],
      "metadata": {
        "colab": {
          "base_uri": "https://localhost:8080/",
          "height": 561
        },
        "id": "3dfBIpFrgXxR",
        "outputId": "9f704fe8-6c03-4b9d-cbd5-042a3b060942"
      },
      "execution_count": 39,
      "outputs": [
        {
          "output_type": "display_data",
          "data": {
            "text/plain": [
              "<Figure size 640x480 with 6 Axes>"
            ],
            "image/png": "[encoded data removed]"
          },
          "metadata": {}
        },
        {
          "output_type": "display_data",
          "data": {
            "text/plain": [
              "<Figure size 640x480 with 60 Axes>"
            ],
            "image/png": "[encoded data removed]"
          },
          "metadata": {}
        }
      ]
    },
    {
      "cell_type": "markdown",
      "source": [
        "Outcomee (3) Discussion:\n",
        "\n",
        "Similar to the baseline kernel outputs, there is not quite any clear pattern. Although, for the convolution 1 kernels, Kernel 2, Kernel 3, and Kernel 5 both have dark elements along the bottom row, top row, and right most column, respectively, which is perhaps an indicator that edge detection/enhancement is being performed amongst those pixels with contrast to the lighter pixels in the other rows/columns, respectively."
      ],
      "metadata": {
        "id": "GnzL768F3zWv"
      }
    }
  ],
  "metadata": {
    "kernelspec": {
      "display_name": "env_opt",
      "language": "python",
      "name": "python3"
    },
    "language_info": {
      "codemirror_mode": {
        "name": "ipython",
        "version": 3
      },
      "file_extension": ".py",
      "mimetype": "text/x-python",
      "name": "python",
      "nbconvert_exporter": "python",
      "pygments_lexer": "ipython3",
      "version": "3.9.17"
    },
    "colab": {
      "provenance": []
    }
  },
  "nbformat": 4,
  "nbformat_minor": 0
}