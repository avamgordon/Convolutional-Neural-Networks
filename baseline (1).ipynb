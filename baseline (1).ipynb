{
  "cells": [
    {
      "cell_type": "markdown",
      "metadata": {
        "id": "if71kh_1T7sO"
      },
      "source": [
        "# Load the data in the form of a dictionary\n",
        "\n",
        "# The dictionary has different keys\n",
        "- DESCR:  describes the dataset\n",
        "- data: array of data (one row per instance, one column per feature)\n",
        "- target: array of labels\n",
        "..."
      ]
    },
    {
      "cell_type": "code",
      "execution_count": 54,
      "metadata": {
        "colab": {
          "base_uri": "https://localhost:8080/"
        },
        "id": "cENTmjkKT7sQ",
        "outputId": "94e1979d-c7b1-4977-859b-55529fbc3bef"
      },
      "outputs": [
        {
          "output_type": "stream",
          "name": "stdout",
          "text": [
            "Requirement already satisfied: scikit-learn in /usr/local/lib/python3.11/dist-packages (1.6.1)\n",
            "Requirement already satisfied: numpy>=1.19.5 in /usr/local/lib/python3.11/dist-packages (from scikit-learn) (2.0.2)\n",
            "Requirement already satisfied: scipy>=1.6.0 in /usr/local/lib/python3.11/dist-packages (from scikit-learn) (1.14.1)\n",
            "Requirement already satisfied: joblib>=1.2.0 in /usr/local/lib/python3.11/dist-packages (from scikit-learn) (1.4.2)\n",
            "Requirement already satisfied: threadpoolctl>=3.1.0 in /usr/local/lib/python3.11/dist-packages (from scikit-learn) (3.6.0)\n",
            "Requirement already satisfied: pandas in /usr/local/lib/python3.11/dist-packages (2.2.2)\n",
            "Requirement already satisfied: numpy>=1.23.2 in /usr/local/lib/python3.11/dist-packages (from pandas) (2.0.2)\n",
            "Requirement already satisfied: python-dateutil>=2.8.2 in /usr/local/lib/python3.11/dist-packages (from pandas) (2.8.2)\n",
            "Requirement already satisfied: pytz>=2020.1 in /usr/local/lib/python3.11/dist-packages (from pandas) (2025.2)\n",
            "Requirement already satisfied: tzdata>=2022.7 in /usr/local/lib/python3.11/dist-packages (from pandas) (2025.2)\n",
            "Requirement already satisfied: six>=1.5 in /usr/local/lib/python3.11/dist-packages (from python-dateutil>=2.8.2->pandas) (1.17.0)\n"
          ]
        },
        {
          "output_type": "execute_result",
          "data": {
            "text/plain": [
              "dict_keys(['data', 'target', 'frame', 'categories', 'feature_names', 'target_names', 'DESCR', 'details', 'url'])"
            ]
          },
          "metadata": {},
          "execution_count": 54
        }
      ],
      "source": [
        "!pip install scikit-learn\n",
        "!pip install pandas\n",
        "from sklearn.datasets import fetch_openml\n",
        "mnist = fetch_openml('mnist_784', version=1) # Returns a dictionary with the data\n",
        "mnist.keys()"
      ]
    },
    {
      "cell_type": "markdown",
      "metadata": {
        "id": "cezJGde3T7sQ"
      },
      "source": [
        "# Get the data and labels"
      ]
    },
    {
      "cell_type": "code",
      "execution_count": 55,
      "metadata": {
        "colab": {
          "base_uri": "https://localhost:8080/"
        },
        "id": "Kdfsjm71T7sR",
        "outputId": "c202d8ab-6a24-4e88-8831-4c709bf73430"
      },
      "outputs": [
        {
          "output_type": "stream",
          "name": "stdout",
          "text": [
            "(70000, 784) (70000,)\n",
            "0 9\n",
            "<class 'pandas.core.frame.DataFrame'> <class 'pandas.core.series.Series'>\n",
            "-1.0 1.0\n"
          ]
        }
      ],
      "source": [
        "\n",
        "import numpy as np\n",
        "X, y = mnist[\"data\"], mnist[\"target\"]\n",
        "y = y.astype(int) # Convert y to list of integers\n",
        "X = ((X/255.) - .5)*2\n",
        "print(X.shape, y.shape)\n",
        "print(min(y),max(y))\n",
        "print(type(X), type(y))\n",
        "print(np.min(np.min(X,axis=0),axis=0),np.max(np.max(X,axis=0)))"
      ]
    },
    {
      "cell_type": "markdown",
      "metadata": {
        "id": "fRxbm0wPT7sR"
      },
      "source": [
        "# Visualize the data"
      ]
    },
    {
      "cell_type": "code",
      "execution_count": 56,
      "metadata": {
        "colab": {
          "base_uri": "https://localhost:8080/",
          "height": 338
        },
        "id": "FWKE9FqWT7sR",
        "outputId": "1088b00f-2dfe-4e85-c02f-4a9474f6c13c"
      },
      "outputs": [
        {
          "output_type": "display_data",
          "data": {
            "text/plain": [
              "<Figure size 640x480 with 10 Axes>"
            ],
            "image/png": "[encoded data removed]"
          },
          "metadata": {}
        }
      ],
      "source": [
        "import matplotlib as mpl\n",
        "import matplotlib.pyplot as plt\n",
        "fig, ax = plt.subplots(nrows=2, ncols=5,sharex=True, sharey=True)\n",
        "ax = ax.flatten()\n",
        "for i in range(10):\n",
        "    matchlist = [i for i, x in enumerate(y == i) if x]\n",
        "    img = X.loc[matchlist[0]].to_numpy().reshape(28,28)\n",
        "    ax[i].imshow(img,cmap='Greys')\n",
        "ax[0].set_xticks([])\n",
        "ax[0].set_yticks([])\n",
        "plt.tight_layout()\n",
        "plt.show()"
      ]
    },
    {
      "cell_type": "markdown",
      "metadata": {
        "id": "KItrhjY3T7sR"
      },
      "source": [
        "# Divide the data into training, development and testing sets"
      ]
    },
    {
      "cell_type": "code",
      "execution_count": 57,
      "metadata": {
        "colab": {
          "base_uri": "https://localhost:8080/"
        },
        "id": "CjVHlPr5T7sR",
        "outputId": "7beb6d7d-04f2-4e27-c548-3a7dacdd7cb6"
      },
      "outputs": [
        {
          "output_type": "stream",
          "name": "stdout",
          "text": [
            "(60000, 784) (10000, 784) (60000,) (10000,)\n",
            "0 9\n",
            "0 9\n"
          ]
        }
      ],
      "source": [
        "X_train, X_test, y_train, y_test = X[:60000], X[60000:], y[:60000], y[60000:]\n",
        "print(X_train.shape, X_test.shape, y_train.shape, y_test.shape)\n",
        "print(min(y_train),max(y_train))\n",
        "print(min(y_test),max(y_test))\n",
        "X_test = X_test.to_numpy()\n",
        "y_test  = y_test .to_numpy()"
      ]
    },
    {
      "cell_type": "code",
      "execution_count": 58,
      "metadata": {
        "id": "JXuipftmT7sS"
      },
      "outputs": [],
      "source": [
        "from sklearn.model_selection import StratifiedShuffleSplit\n",
        "\n",
        "splitter=StratifiedShuffleSplit(n_splits=1,random_state=12)\n",
        "for train,test in splitter.split(X_train,y_train):\n",
        "    X_train_strat = X_train.iloc[train]\n",
        "    y_train_strat  = y_train.iloc[train]\n",
        "    X_dev_strat= X_train.iloc[test]\n",
        "    y_dev_strat = y_train.iloc[test]\n",
        "X_train_strat = X_train_strat.to_numpy()\n",
        "y_train_strat = y_train_strat.to_numpy()\n",
        "X_dev_strat = X_dev_strat.to_numpy()\n",
        "y_dev_strat = y_dev_strat.to_numpy()\n",
        "#print(X_train_strat.shape, y_train_strat.shape, X_dev_strat.shape, y_dev_strat.shape)\n",
        "#print(min(y_train_strat),max(y_train_strat))\n",
        "#print(min(y_dev_strat),max(y_dev_strat))\n"
      ]
    },
    {
      "cell_type": "markdown",
      "metadata": {
        "id": "JE2cPKyfT7sS"
      },
      "source": [
        "# Use the dataloader to automatically divide data into batches"
      ]
    },
    {
      "cell_type": "code",
      "execution_count": 59,
      "metadata": {
        "id": "8Lu16IhoT7sS"
      },
      "outputs": [],
      "source": [
        "# Import key libraries\n",
        "import torch\n",
        "import torch.nn as nn\n",
        "import torch.nn.functional as Func\n",
        "from torch.autograd import Variable\n",
        "import torch.optim as optim\n",
        "import torch.utils.data as data\n",
        "import random\n",
        "from scipy.io import savemat\n",
        "import os\n",
        "from os import path\n",
        "from sklearn.preprocessing import normalize\n",
        "from torch.nn.utils import clip_grad_norm_\n",
        "import torch.nn.parallel.data_parallel as data_parallel\n",
        "from sklearn.metrics import confusion_matrix\n",
        "import matplotlib.pyplot as plt\n",
        "import numpy as np"
      ]
    },
    {
      "cell_type": "code",
      "execution_count": 60,
      "metadata": {
        "id": "bNtlIxHqT7sS"
      },
      "outputs": [],
      "source": [
        "# Define key hyperparameters\n",
        "class hyperparam:\n",
        "    num_classes    = 10 # 10 neurons for the output layer\n",
        "    input_dim      = 28*28 # Inputs are size 28x28\n",
        "    lr          = 0.05 # Initial learning rate\n",
        "    num_epochs = 100 # Number of epochs\n",
        "    bs          = 50 # Mini-batch size\n"
      ]
    },
    {
      "cell_type": "code",
      "execution_count": 61,
      "metadata": {
        "id": "S7P4huwtT7sS"
      },
      "outputs": [],
      "source": [
        "class myDataset(data.Dataset):\n",
        "    def __init__(self, input_data, labels):\n",
        "        # Initialize variables\n",
        "        self.feats = input_data\n",
        "        self.labels = labels\n",
        "\n",
        "    def __len__(self):\n",
        "        return len(self.labels) # returns the number of samples\n",
        "\n",
        "    def __getitem__(self, index): # Returns sample data and label\n",
        "        # Reshaping inputs to size 28x28\n",
        "        X = self.feats[index].reshape(28, 28)\n",
        "        X = X[np.newaxis, :, :]\n",
        "        X = torch.tensor(X, dtype = torch.float32)\n",
        "        y = torch.tensor(self.labels[index], dtype=torch.long)\n",
        "        return X, y\n",
        ""
      ]
    },
    {
      "cell_type": "code",
      "execution_count": 62,
      "metadata": {
        "colab": {
          "base_uri": "https://localhost:8080/"
        },
        "id": "XofqwGHET7sS",
        "outputId": "b748b982-a845-4efd-a953-6eaf7eda411b"
      },
      "outputs": [
        {
          "output_type": "stream",
          "name": "stdout",
          "text": [
            "(54000, 784)\n"
          ]
        }
      ],
      "source": [
        "params = {'batch_size': hyperparam.bs,\n",
        "         'shuffle': True,\n",
        "         'num_workers': 0,\n",
        "         'drop_last': False,\n",
        "         'pin_memory': False}\n",
        "\n",
        "training_set = myDataset(X_train_strat,y_train_strat)\n",
        "dev_set      = myDataset(X_dev_strat,y_dev_strat)\n",
        "test_set     = myDataset(X_test,y_test)\n",
        "\n",
        "training_gen = data.DataLoader(training_set,**params)\n",
        "dev_gen      = data.DataLoader(dev_set,**params)\n",
        "\n",
        "params2 = {'batch_size': 16,\n",
        "         'shuffle': False,\n",
        "         'num_workers': 0,\n",
        "         'drop_last': False,\n",
        "         'pin_memory': False}\n",
        "testing_gen  = data.DataLoader(test_set,**params2)\n",
        "print(X_train_strat.shape)"
      ]
    },
    {
      "cell_type": "code",
      "execution_count": 63,
      "metadata": {
        "id": "ZmSQ_3IiT7sT"
      },
      "outputs": [],
      "source": [
        "import torch.nn.functional as F"
      ]
    },
    {
      "cell_type": "markdown",
      "metadata": {
        "id": "8rylA8TIT7sT"
      },
      "source": [
        "# Define the Neural Network"
      ]
    },
    {
      "cell_type": "code",
      "execution_count": 64,
      "metadata": {
        "id": "Oc41KtkWT7sT"
      },
      "outputs": [],
      "source": [
        "class DNN(nn.Module):\n",
        "    def __init__(self):\n",
        "        super(DNN,self).__init__()\n",
        "\n",
        "        self.conv1 = nn.Conv2d(in_channels = 1, out_channels = 6, kernel_size = 3, stride = 1) # Convolutional layer 1 with 6 3x3 kernels and stride = 1\n",
        "        self.conv2 = nn.Conv2d(in_channels = 6, out_channels = 10, kernel_size = 3, stride = 1) # Convolutional layer 2 with 10 3x3 kernels and stride = 1\n",
        "        new_dimension = 10 * 24 * 24 # Dimension after convolution\n",
        "        self.output = nn.Linear(new_dimension, 10) # 10 neurons for the output layer\n",
        "\n",
        "    def forward(self,sig):\n",
        "        sig = self.conv1(sig) # Convolution 1\n",
        "        sig = F.relu(sig) # Followed by ReLU A.F.\n",
        "        sig = self.conv2(sig) # Convolution 2\n",
        "        sig = F.relu(sig) # Followed by ReLU A.F.\n",
        "        sig = sig.view(sig.size(0),-1) # Flattening\n",
        "        sig = self.output(sig) # nn.Linear\n",
        "        return sig\n",
        ""
      ]
    },
    {
      "cell_type": "code",
      "execution_count": 65,
      "metadata": {
        "id": "07QPAAyNT7sT"
      },
      "outputs": [],
      "source": [
        "# Create DNN and define loss function\n",
        "dnn_model = DNN()\n",
        "optimizer = torch.optim.SGD(dnn_model.parameters(), lr=hyperparam.lr)\n",
        "# Cross-entropy loss function\n",
        "loss = nn.CrossEntropyLoss()"
      ]
    },
    {
      "cell_type": "code",
      "execution_count": 66,
      "metadata": {
        "colab": {
          "base_uri": "https://localhost:8080/",
          "height": 35
        },
        "id": "yHMKcrFrT7sT",
        "outputId": "ea5f29b6-3ff2-4b9b-bf5b-548dc353a054"
      },
      "outputs": [
        {
          "output_type": "display_data",
          "data": {
            "application/javascript": [
              "IPython.notebook.set_autosave_interval(0)"
            ]
          },
          "metadata": {}
        },
        {
          "output_type": "stream",
          "name": "stdout",
          "text": [
            "Autosave disabled\n"
          ]
        }
      ],
      "source": [
        "%autosave 0"
      ]
    },
    {
      "cell_type": "code",
      "execution_count": 67,
      "metadata": {
        "colab": {
          "base_uri": "https://localhost:8080/"
        },
        "id": "Nvc4XSusT7sT",
        "outputId": "00a676be-7db8-4884-df3a-46556e440dfa"
      },
      "outputs": [
        {
          "output_type": "execute_result",
          "data": {
            "text/plain": [
              "DNN(\n",
              "  (conv1): Conv2d(1, 6, kernel_size=(3, 3), stride=(1, 1))\n",
              "  (conv2): Conv2d(6, 10, kernel_size=(3, 3), stride=(1, 1))\n",
              "  (output): Linear(in_features=5760, out_features=10, bias=True)\n",
              ")"
            ]
          },
          "metadata": {},
          "execution_count": 67
        }
      ],
      "source": [
        "# Baseline system should use Xavier initialization based on uniform distribution\n",
        "def xavier(module_weights):\n",
        "    if isinstance(module_weights, (nn.Conv2d, nn.Linear)):\n",
        "        torch.nn.init.xavier_uniform_(module_weights.weight)\n",
        "dnn_model.apply(xavier)"
      ]
    },
    {
      "cell_type": "code",
      "execution_count": 40,
      "metadata": {
        "id": "TkdcqCw7T7sT"
      },
      "outputs": [],
      "source": [
        "# Mini-batch GD with momentum (beta = 0.9) & mini batch size of 50\n",
        "optimizer = torch.optim.SGD(dnn_model.parameters(), lr=0.05, momentum=0.9)\n",
        "# A learning rate scheduler to adjust the learning rate by 10% every 10 epochs, starting with a learning rate of 0.05\n",
        "learning_rate = torch.optim.lr_scheduler.StepLR(optimizer, step_size=10, gamma=0.9)"
      ]
    },
    {
      "cell_type": "code",
      "execution_count": 68,
      "metadata": {
        "id": "HPJgNUqUT7sT"
      },
      "outputs": [],
      "source": [
        "# Early stopping\n",
        "epoch_step = 10\n",
        "best_dev_loss = 0\n",
        "early_stop = 0"
      ]
    },
    {
      "cell_type": "code",
      "execution_count": 69,
      "metadata": {
        "scrolled": true,
        "colab": {
          "base_uri": "https://localhost:8080/"
        },
        "id": "e74Rvd1KT7sU",
        "outputId": "b3a463db-c35d-477c-e8d5-0fab4d0a66f9"
      },
      "outputs": [
        {
          "output_type": "stream",
          "name": "stdout",
          "text": [
            "Epoch  0, Train Loss: 0.225637245, Train Accuracy: 0.93119, Dev Loss: 0.098015189, Dev Accuracy: 0.96967\n",
            "Epoch  1, Train Loss: 0.088589555, Train Accuracy: 0.97344, Dev Loss: 0.074466906, Dev Accuracy: 0.97767\n",
            "Epoch  2, Train Loss: 0.065345741, Train Accuracy: 0.98041, Dev Loss: 0.067390181, Dev Accuracy: 0.97933\n",
            "Epoch  3, Train Loss: 0.053529438, Train Accuracy: 0.98337, Dev Loss: 0.060235403, Dev Accuracy: 0.98200\n",
            "Epoch  4, Train Loss: 0.045268128, Train Accuracy: 0.98598, Dev Loss: 0.054491434, Dev Accuracy: 0.98383\n",
            "Epoch  5, Train Loss: 0.038126434, Train Accuracy: 0.98783, Dev Loss: 0.054970331, Dev Accuracy: 0.98333\n",
            "Epoch  6, Train Loss: 0.033089207, Train Accuracy: 0.98950, Dev Loss: 0.053542353, Dev Accuracy: 0.98517\n",
            "Epoch  7, Train Loss: 0.028520612, Train Accuracy: 0.99146, Dev Loss: 0.050434820, Dev Accuracy: 0.98517\n",
            "Epoch  8, Train Loss: 0.023896137, Train Accuracy: 0.99280, Dev Loss: 0.053300019, Dev Accuracy: 0.98267\n",
            "Epoch  9, Train Loss: 0.021565541, Train Accuracy: 0.99337, Dev Loss: 0.051567372, Dev Accuracy: 0.98417\n",
            "Early stopped at epoch 10\n"
          ]
        }
      ],
      "source": [
        "# Train the DNN\n",
        "import warnings\n",
        "warnings.filterwarnings('ignore')\n",
        "tr_avgLoss_list = [] # Avg. training loss per epoch\n",
        "tr_accuracy_list = [] # Training accuracy per epoch\n",
        "dev_avgLoss_list = [] # Avg. validation loss per epoch\n",
        "dev_accuracy_list = [] # Validation accuarcy per epoch\n",
        "\n",
        "# Loop over epochs\n",
        "for epoch in range(hyperparam.num_epochs):\n",
        "    tr_num_correct = 0 # Num. correctly classified training samples\n",
        "    tr_num_samples = 0 # Total number of training samples\n",
        "    tr_total_loss = 0.0 # Total training loss\n",
        "\n",
        "    dev_num_correct = 0 # Num. correctly classified validation samples\n",
        "    dev_num_samples = 0 # Total number of validation samples\n",
        "    dev_total_loss = 0.0 # Total validaton loss\n",
        "\n",
        "    # Training\n",
        "    dnn_model.train(True)\n",
        "\n",
        "    with torch.set_grad_enabled(True):\n",
        "        for local_batch, local_labels in training_gen:\n",
        "\n",
        "            optimizer.zero_grad()\n",
        "\n",
        "            local_batch = local_batch.float()\n",
        "            local_labels = local_labels.float()\n",
        "            local_batch, local_labels = Variable(local_batch), Variable(local_labels)\n",
        "\n",
        "            # Model computations\n",
        "            out1 = dnn_model(local_batch)\n",
        "            #CrossEntropy loss calculation\n",
        "            pLoss = loss(out1,local_labels.long())\n",
        "            tr_total_loss += pLoss.item()*hyperparam.bs #Correct for average based on batch size\n",
        "\n",
        "            # Backpropagation\n",
        "            pLoss.backward() #gradient calculation\n",
        "            optimizer.step() #weight update\n",
        "\n",
        "\n",
        "            sel_class = torch.argmax(out1,dim=1)\n",
        "\n",
        "            tr_num_correct += sel_class.eq(local_labels).sum().item()\n",
        "            tr_num_samples += hyperparam.bs\n",
        "\n",
        "        tr_avgLoss = tr_total_loss/len(training_gen.dataset)\n",
        "        tr_avgLoss_list.append(tr_avgLoss)\n",
        "\n",
        "        tr_accuracy = tr_num_correct/tr_num_samples\n",
        "        tr_accuracy_list.append(tr_accuracy)\n",
        "\n",
        "    # Validation\n",
        "    with torch.set_grad_enabled(False):\n",
        "        dnn_model.eval()\n",
        "\n",
        "        for local_batch, local_labels in dev_gen:\n",
        "\n",
        "            local_batch = local_batch.float()\n",
        "            local_labels = local_labels.float()\n",
        "            local_batch, local_labels = Variable(local_batch), Variable(local_labels)\n",
        "\n",
        "            # Model computations\n",
        "            out1 = dnn_model(local_batch)\n",
        "\n",
        "            #CrossEntropy loss calculation\n",
        "            pLoss = loss(out1,local_labels.long())\n",
        "            dev_total_loss += pLoss*hyperparam.bs #Correct for average based on batch size\n",
        "\n",
        "            sel_class = torch.argmax(out1,dim=1)\n",
        "\n",
        "            dev_num_correct += sel_class.eq(local_labels).sum().item()\n",
        "            #print(correction)\n",
        "            dev_num_samples += hyperparam.bs\n",
        "\n",
        "        dev_avgLoss = dev_total_loss/len(dev_gen.dataset)\n",
        "        dev_avgLoss_list.append(dev_avgLoss)\n",
        "\n",
        "        dev_accuracy = dev_num_correct/dev_num_samples\n",
        "        dev_accuracy_list.append(dev_accuracy)\n",
        "\n",
        "        learning_rate.step()\n",
        "\n",
        "        print('Epoch {:2}, Train Loss: {:>.9f}, Train Accuracy: {:>.5f}, Dev Loss: {:>.9f}, Dev Accuracy: {:>.5f}'.format(epoch,tr_avgLoss,tr_accuracy,dev_avgLoss,dev_accuracy))\n",
        "\n",
        "        if dev_avgLoss < best_dev_loss:\n",
        "            best_dev_loss = dev_avgLoss\n",
        "            early_stop = 0\n",
        "        else:\n",
        "            early_stop += 1\n",
        "        if early_stop >= epoch_step:\n",
        "            print(f\"Early stopped at epoch {epoch +1}\")\n",
        "            break\n"
      ]
    },
    {
      "cell_type": "code",
      "execution_count": 70,
      "metadata": {
        "colab": {
          "base_uri": "https://localhost:8080/",
          "height": 487
        },
        "id": "uXvbGyE-T7sU",
        "outputId": "5fad0a9e-799a-4ad8-e084-daa97b190c62"
      },
      "outputs": [
        {
          "output_type": "display_data",
          "data": {
            "text/plain": [
              "<Figure size 640x480 with 2 Axes>"
            ],
            "image/png": "[encoded data removed]"
          },
          "metadata": {}
        }
      ],
      "source": [
        "# Outcomes (1): Generate learning curves for the validation and testing sets.\n",
        "fig, ax = plt.subplots(nrows=1, ncols=2,sharex=False, sharey=False)\n",
        "ax = ax.flatten()\n",
        "tr_errors = [tr_avgLoss_list, tr_accuracy_list]\n",
        "dev_errors = [dev_avgLoss_list, dev_accuracy_list]\n",
        "er_title = ['Avg. Cross Entropy Loss','Avg. Accuracy']\n",
        "for i in range(2):\n",
        "    ax[i].plot(tr_errors[i],\"r-+\",linewidth=2, label =\"train\")\n",
        "    ax[i].plot(dev_errors[i],\"b-\",linewidth=2,label =\"val\")\n",
        "    ax[i].legend()\n",
        "    ax[i].title.set_text(er_title[i])\n",
        "    ax[i].set_xlabel('Epoch')\n",
        "\n",
        "plt.tight_layout()\n",
        "plt.show()"
      ]
    },
    {
      "cell_type": "markdown",
      "source": [
        "Outcomes (1) Discussion: As the number of epochs increases, the average cross entropy loss decreases for both the training and validation data, but decreases even more for the training data after around the second epoch while it steadily plateaus a bit for the validation data. Furthermore, as the number of epochs increases, the average accuracy increases for both the training and validation data, but increases even more for the training data after around the second epoch. While both have low average cross entropy loss and high average accuracy, this is a sign that there is some overfitting occuring here with the baseline model and the baseline model could improve in generalizing better to unseen data."
      ],
      "metadata": {
        "id": "ZUWY88CWw_px"
      }
    },
    {
      "cell_type": "code",
      "execution_count": 71,
      "metadata": {
        "colab": {
          "base_uri": "https://localhost:8080/"
        },
        "id": "ITnkOytbT7sU",
        "outputId": "7bee6c70-3d01-4b79-94bf-00a8f54adf34"
      },
      "outputs": [
        {
          "output_type": "stream",
          "name": "stdout",
          "text": [
            "Test Loss: 0.003465664, Test Accuracy: 0.98460\n",
            "[[ 975    0    1    0    1    0    1    1    1    0]\n",
            " [   1 1127    4    1    1    0    0    1    0    0]\n",
            " [   2    3 1015    1    2    0    0    8    1    0]\n",
            " [   0    0    3 1001    0    4    0    1    1    0]\n",
            " [   0    0    1    0  973    0    1    0    3    4]\n",
            " [   2    0    2    7    0  880    1    0    0    0]\n",
            " [   8    3    0    1    3    9  933    0    1    0]\n",
            " [   0    1    5    2    1    0    0 1017    1    1]\n",
            " [   5    0    3    2    0    2    3    3  954    2]\n",
            " [   6    2    0    4   11    5    0    7    3  971]]\n"
          ]
        }
      ],
      "source": [
        "# Outcomes (2): Test this baseline system with the testing data and report the\n",
        "# accuracy and show a confusion matrix.\n",
        "\n",
        "actuals = []\n",
        "predicted = []\n",
        "\n",
        "test_total_loss=0.0\n",
        "test_num_correct =0\n",
        "with torch.set_grad_enabled(False):\n",
        "    dnn_model.eval()\n",
        "\n",
        "    for local_batch, local_labels in testing_gen:\n",
        "\n",
        "            local_batch = local_batch.float()\n",
        "            local_labels = local_labels.float()\n",
        "            local_batch, local_labels = Variable(local_batch), Variable(local_labels)\n",
        "\n",
        "            # Model computations\n",
        "            out1 = dnn_model(local_batch)\n",
        "            predictions = torch.argmax(out1, dim=1)\n",
        "            predicted.extend(predictions.detach().numpy())\n",
        "            actuals.extend(local_labels.detach().numpy())\n",
        "\n",
        "            #CrossEntropy loss calculation\n",
        "            pLoss = loss(out1,local_labels.long())\n",
        "            test_total_loss += pLoss*1 #Correct for average based on batch size\n",
        "\n",
        "            sel_class = torch.argmax(out1,dim=1)\n",
        "\n",
        "            test_num_correct += sel_class.eq(local_labels.long()).sum().item() #Added .long()\n",
        "            test_num_samples = len(testing_gen.dataset)\n",
        "\n",
        "    test_avgLoss = test_total_loss/len(testing_gen.dataset)\n",
        "    test_accuracy = test_num_correct/test_num_samples\n",
        "\n",
        "    print('Test Loss: {:>.9f}, Test Accuracy: {:>.5f}'.format(test_avgLoss,test_accuracy))\n",
        "    print(confusion_matrix(actuals, predicted))\n"
      ]
    },
    {
      "cell_type": "code",
      "source": [
        "# Outcomes (3): Display a subset of the kernels from each convolutional layer as\n",
        "# images (e.g. using matplotlib, subplot, imshow).\n",
        "\n",
        "# Convolutional layer 1:\n",
        "weights1 = dnn_model.conv1.weight.data.numpy()\n",
        "filters1 = weights1.shape[0]\n",
        "\n",
        "fig, ax = plt.subplots(nrows=1, ncols=filters1,sharex=True, sharey=True)\n",
        "ax = ax.flatten()\n",
        "for i in range(filters1):\n",
        "    img = weights1[i].reshape(3,3)\n",
        "    ax[i].imshow(img,cmap='Grays')\n",
        "    ax[i].set_title(f'Kernel {i+1}')\n",
        "ax[0].set_xticks([])\n",
        "ax[0].set_yticks([])\n",
        "plt.tight_layout()\n",
        "plt.show()\n",
        "\n",
        "# Convolutional layer 2:\n",
        "weights2 = dnn_model.conv2.weight.data.numpy()\n",
        "filters2 = weights2.shape[0]\n",
        "channels2 = weights2.shape[1]\n",
        "\n",
        "fig, ax = plt.subplots(nrows = filters2, ncols=channels2,sharex=True, sharey=True)\n",
        "ax = ax.flatten()\n",
        "for i in range(filters2):\n",
        "    for j in range(channels2):\n",
        "        img = weights2[i,j].reshape(3,3)\n",
        "        ax[i*channels2+j].imshow(img,cmap='Grays')\n"
      ],
      "metadata": {
        "colab": {
          "base_uri": "https://localhost:8080/",
          "height": 561
        },
        "id": "NeWTQk36VVvK",
        "outputId": "7e708c11-47c3-4305-b459-0af142324204"
      },
      "execution_count": 53,
      "outputs": [
        {
          "output_type": "display_data",
          "data": {
            "text/plain": [
              "<Figure size 640x480 with 6 Axes>"
            ],
            "image/png": "[encoded data removed]"
          },
          "metadata": {}
        },
        {
          "output_type": "display_data",
          "data": {
            "text/plain": [
              "<Figure size 640x480 with 60 Axes>"
            ],
            "image/png": "[encoded data removed]"
          },
          "metadata": {}
        }
      ]
    },
    {
      "cell_type": "markdown",
      "source": [
        "Outcomes (3) cont: Discuss the kernels and what patterns it seems like they may be learning, if any:\n",
        "\n",
        "There do not appear to be any clear patterns with these kernels for both Convolution 1 and Convolution 2. Darker elements of the kernels are likely doing some kind of edge detection or sharpening while lighter elements of the kernels are likely doing some kind of smoothing or light intensity enhancement.\n",
        "\n",
        "While I do not see any clear patterns amongst all 66 of these kernels, to interpret one of them, taking a look at \"Kernel 4\", it has a white center and darker surroundings, meaning attention is likely being drawn to the center pixel."
      ],
      "metadata": {
        "id": "YbofhGdNcUZ0"
      }
    }
  ],
  "metadata": {
    "kernelspec": {
      "display_name": "env_opt",
      "language": "python",
      "name": "python3"
    },
    "language_info": {
      "codemirror_mode": {
        "name": "ipython",
        "version": 3
      },
      "file_extension": ".py",
      "mimetype": "text/x-python",
      "name": "python",
      "nbconvert_exporter": "python",
      "pygments_lexer": "ipython3",
      "version": "3.9.17"
    },
    "colab": {
      "provenance": []
    }
  },
  "nbformat": 4,
  "nbformat_minor": 0
}